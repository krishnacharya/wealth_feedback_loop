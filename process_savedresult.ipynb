{
 "cells": [
  {
   "cell_type": "code",
   "execution_count": 66,
   "id": "bfa7472b",
   "metadata": {},
   "outputs": [],
   "source": [
    "import numpy as np\n",
    "from plot_handling import *"
   ]
  },
  {
   "cell_type": "markdown",
   "id": "286807c3",
   "metadata": {},
   "source": [
    "# this file below has granulity 10, see definition in runandsave.py, basically easier to load in RAM (40 MB)"
   ]
  },
  {
   "cell_type": "code",
   "execution_count": 68,
   "id": "40f06ec4",
   "metadata": {},
   "outputs": [],
   "source": [
    "#res is a numpy array of objects, each object is of class Paramclass (see paramclass.py)\n",
    "res = np.load(\"0.1grid_granu10.npy\", allow_pickle=True) "
   ]
  },
  {
   "cell_type": "code",
   "execution_count": 69,
   "id": "a5c13f0c",
   "metadata": {},
   "outputs": [
    {
     "name": "stdout",
     "output_type": "stream",
     "text": [
      "30855 <class 'numpy.ndarray'> <class 'paramclass.Paramclass'>\n"
     ]
    }
   ],
   "source": [
    "print(len(res),type(res), type(res[0]))"
   ]
  },
  {
   "cell_type": "markdown",
   "id": "34c042b2",
   "metadata": {},
   "source": [
    "# Each object in the res numpy array is of Paramclass type\n",
    "The paramclass object is a uniquely characterized by (sigmoid wealth curve parameters, lambda, discount factor)\n",
    "See the code block below for what this means"
   ]
  },
  {
   "cell_type": "code",
   "execution_count": 70,
   "id": "b50317c1",
   "metadata": {},
   "outputs": [
    {
     "name": "stdout",
     "output_type": "stream",
     "text": [
      "0.1 0.1 0.1 0.2\n",
      "0.0 0.0\n",
      "0.0025914268454680267 0.13587245723218797 1.0\n",
      "0.044871062853480165\n"
     ]
    }
   ],
   "source": [
    "print(res[0].alpha,res[0].gamma, res[0].sigma,res[0].threshold) #parameters for the sigmoid wealth curve\n",
    "print(res[0].lamb, res[0].df) # lambda and discount factor dont affect the shape of the wealth curve\n",
    "print(res[0].x_1,res[0].x_2,res[0].x_3) #the 3 fixed points\n",
    "print(res[0].Delta)"
   ]
  },
  {
   "cell_type": "code",
   "execution_count": 71,
   "id": "1c900926",
   "metadata": {},
   "outputs": [
    {
     "data": {
      "image/png": "[encoded data removed]",
      "text/plain": [
       "<Figure size 432x288 with 1 Axes>"
      ]
     },
     "metadata": {
      "needs_background": "light"
     },
     "output_type": "display_data"
    }
   ],
   "source": [
    "display_fixedpoint_plot(res[0].alpha,res[0].gamma, res[0].sigma,res[0].threshold)"
   ]
  },
  {
   "cell_type": "code",
   "execution_count": 72,
   "id": "124b8c1b",
   "metadata": {},
   "outputs": [],
   "source": [
    "c, objective = res[0].cost_vec, get_objective(res[0].obj_vec)"
   ]
  },
  {
   "cell_type": "code",
   "execution_count": 73,
   "id": "8a3851fa",
   "metadata": {},
   "outputs": [
    {
     "data": {
      "text/plain": [
       "[<matplotlib.lines.Line2D at 0x7fec0006d040>]"
      ]
     },
     "execution_count": 73,
     "metadata": {},
     "output_type": "execute_result"
    },
    {
     "data": {
      "image/png": "[encoded data removed]",
      "text/plain": [
       "<Figure size 432x288 with 1 Axes>"
      ]
     },
     "metadata": {
      "needs_background": "light"
     },
     "output_type": "display_data"
    }
   ],
   "source": [
    "plt.plot(c,objective)"
   ]
  },
  {
   "cell_type": "code",
   "execution_count": 74,
   "id": "21e131c9",
   "metadata": {},
   "outputs": [
    {
     "name": "stdout",
     "output_type": "stream",
     "text": [
      "True True\n"
     ]
    }
   ],
   "source": [
    "print(res[0].suff1_oneshotbest, res[0].suff2_oneshotbest)"
   ]
  },
  {
   "cell_type": "markdown",
   "id": "26c92649",
   "metadata": {},
   "source": [
    "# In the following code block I will now count the number of cases where the theoretical sufficient condition1(claim 25) i.e. lambda <= 0.5 predicted one-shot optimal and, in reality, empirically we get one-shot not optimal\n",
    "\n",
    "# suff condition 2(theorem ) is that discount factor >= 2-1/lambda then one-shot is optimal"
   ]
  },
  {
   "cell_type": "code",
   "execution_count": 75,
   "id": "b2a79c99",
   "metadata": {},
   "outputs": [],
   "source": [
    "def get_objective(object_list):\n",
    "  return [ob.total_objective for ob in object_list]\n",
    "\n",
    "def one_shot_inmin(paramclass_obj):\n",
    "  '''\n",
    "  Check if one shot is in minimum total objective\n",
    "  '''\n",
    "  total_obj_list = np.array(get_objective(paramclass_obj.obj_vec))\n",
    "  last_index = len(paramclass_obj.obj_vec) - 1 #the index correpodning to x_2-x_1\n",
    "  min_indices = np.where(total_obj_list == total_obj_list.min())[0]\n",
    "  if last_index in min_indices:\n",
    "    return True\n",
    "  return False\n",
    "\n",
    "def count_fraction(res):\n",
    "  suff1_count = 0 #counts the number of times the theoeretical suff condition 1 is satisfied\n",
    "  suff1_emp = 0 #counts the number of times suff condition 1 is satisfied and empirically also 1 shot optimal\n",
    "  suff2_count = 0 #counts the number of times the theoeretical suff condition 2 is satisfied\n",
    "  suff2_emp = 0 #counts the number of times suff condition 2 is satisfied and empirically also 1 shot optimal\n",
    "  emp_oneshot = 0 #counts the number of times one shot is in minimum\n",
    "  flag = False\n",
    "  for v in res:\n",
    "    if one_shot_inmin(v):\n",
    "      emp_oneshot += 1\n",
    "      flag = True\n",
    "    if v.lamb <= 0.5:\n",
    "      suff1_count += 1\n",
    "      if flag:\n",
    "        suff1_emp += 1\n",
    "    if v.df >= 2 - 1/v.lamb:\n",
    "      suff2_count += 1\n",
    "      if flag:\n",
    "        suff2_emp += 1\n",
    "  return emp_oneshot, suff1_count, suff1_emp, suff2_count, suff2_emp    "
   ]
  },
  {
   "cell_type": "code",
   "execution_count": 76,
   "id": "29324ea2",
   "metadata": {},
   "outputs": [
    {
     "name": "stderr",
     "output_type": "stream",
     "text": [
      "<ipython-input-75-e3b944a89317>:30: RuntimeWarning: divide by zero encountered in double_scalars\n",
      "  if v.df >= 2 - 1/v.lamb:\n"
     ]
    }
   ],
   "source": [
    "emp_oneshot, suff1_count, suff1_emp, suff2_count, suff2_emp = count_fraction(res)"
   ]
  },
  {
   "cell_type": "code",
   "execution_count": 77,
   "id": "324ff35f",
   "metadata": {},
   "outputs": [
    {
     "name": "stdout",
     "output_type": "stream",
     "text": [
      "21882 16830 16830 21420 21420\n",
      "0.9788867562380038\n"
     ]
    }
   ],
   "source": [
    "print(emp_oneshot, suff1_count, suff1_emp, suff2_count, suff2_emp)\n",
    "print(suff2_count/emp_oneshot)"
   ]
  },
  {
   "cell_type": "markdown",
   "id": "e6cab841",
   "metadata": {},
   "source": [
    "# Observation1 there are no cases where sufficient theoretical conditions is satisfied and empirically oneshot is not optimal, i.e. they truly are like sufficient conditions\n",
    "\n",
    "# Above is an great empirical result its showing that gamma >= 2-1/lambda is a pretty tight condition empirically (i.e its almost neccesary and sufficient for one-shot optimality) but not exactly 17340(from suff condition 2) vs 17645(actual total one-shot opt)"
   ]
  },
  {
   "cell_type": "markdown",
   "id": "062fc968",
   "metadata": {},
   "source": [
    "# I was initially suprised by the above so I increased the granularity i.e the number of cost interventions between [Delta,x_2-x_1] to 100 (400 MB RAM required), it still works"
   ]
  },
  {
   "cell_type": "code",
   "execution_count": 54,
   "id": "1330d4e1",
   "metadata": {},
   "outputs": [],
   "source": [
    "res2 = np.load(\"0.1grid_granu100.npy\", allow_pickle=True)"
   ]
  },
  {
   "cell_type": "code",
   "execution_count": 63,
   "id": "402f2f00",
   "metadata": {},
   "outputs": [
    {
     "data": {
      "text/plain": [
       "30855"
      ]
     },
     "execution_count": 63,
     "metadata": {},
     "output_type": "execute_result"
    }
   ],
   "source": [
    "len(res2)"
   ]
  },
  {
   "cell_type": "code",
   "execution_count": 57,
   "id": "8e00adf3",
   "metadata": {},
   "outputs": [
    {
     "name": "stderr",
     "output_type": "stream",
     "text": [
      "<ipython-input-48-c62b13ca75ff>:24: RuntimeWarning: divide by zero encountered in double_scalars\n",
      "  if v.df >= 2 - 1/v.lamb:\n"
     ]
    }
   ],
   "source": [
    "emp_oneshot, suff1_count, suff1_emp, suff2_count, suff2_emp = count_fraction(res2)"
   ]
  },
  {
   "cell_type": "code",
   "execution_count": 61,
   "id": "f2830d2e",
   "metadata": {},
   "outputs": [
    {
     "name": "stdout",
     "output_type": "stream",
     "text": [
      "21825 16830 16830 21420 21420\n",
      "0.9814432989690721\n"
     ]
    }
   ],
   "source": [
    "print(emp_oneshot, suff1_count, suff1_emp, suff2_count, suff2_emp)\n",
    "print(suff2_count/emp_oneshot)"
   ]
  },
  {
   "cell_type": "code",
   "execution_count": 65,
   "id": "cba7e8e2",
   "metadata": {},
   "outputs": [],
   "source": [
    "np.save(\"0.1grid100granu\",res2)"
   ]
  }
 ],
 "metadata": {
  "kernelspec": {
   "display_name": "Python 3",
   "language": "python",
   "name": "python3"
  },
  "language_info": {
   "codemirror_mode": {
    "name": "ipython",
    "version": 3
   },
   "file_extension": ".py",
   "mimetype": "text/x-python",
   "name": "python",
   "nbconvert_exporter": "python",
   "pygments_lexer": "ipython3",
   "version": "3.8.8"
  }
 },
 "nbformat": 4,
 "nbformat_minor": 5
}
